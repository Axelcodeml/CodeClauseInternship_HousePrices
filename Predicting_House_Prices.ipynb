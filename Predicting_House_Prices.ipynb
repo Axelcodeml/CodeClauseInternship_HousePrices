{
 "cells": [
  {
   "cell_type": "markdown",
   "id": "c53ac0b4",
   "metadata": {},
   "source": [
    "# Predicting_house_prices"
   ]
  },
  {
   "cell_type": "markdown",
   "id": "f65f9fef",
   "metadata": {},
   "source": [
    "### Project Details\n",
    "\n",
    "#### Aim\n",
    "Build a simple linear regression model to predict house prices based on features like the **number of bedrooms** and **square footage**.\n",
    "\n",
    "#### Description\n",
    "Use a dataset of house prices, split it into training and testing sets, and build a regression model using Scikit-learn.\n",
    "\n",
    "#### Technologies\n",
    "Python, Pandas, Scikit-learn.</br>\n",
    "Another technologies can be used."
   ]
  },
  {
   "cell_type": "code",
   "execution_count": 2,
   "id": "39d3c030",
   "metadata": {},
   "outputs": [],
   "source": [
    "# libraries to read and manipilation data\n",
    "import pandas as pd\n",
    "import numpy as np\n",
    "\n",
    "# to visualize data\n",
    "import matplotlib.pyplot as plt\n",
    "import seaborn as sns\n",
    "\n",
    "sns.set()\n",
    "\n",
    "# to split the data into train and test\n",
    "from sklearn.model_selection import train_test_split\n",
    "\n",
    "# library for linear regression model\n",
    "import statsmodels.api as sm\n",
    "\n",
    "# to check model performance\n",
    "from sklearn.metrics import mean_absolute_error, mean_squared_error, r2_score"
   ]
  },
  {
   "cell_type": "markdown",
   "id": "3c63dcf0",
   "metadata": {},
   "source": [
    "### Reading Data"
   ]
  },
  {
   "cell_type": "code",
   "execution_count": 3,
   "id": "15c8ef6a",
   "metadata": {
    "scrolled": true
   },
   "outputs": [
    {
     "data": {
      "text/html": [
       "<div>\n",
       "<style scoped>\n",
       "    .dataframe tbody tr th:only-of-type {\n",
       "        vertical-align: middle;\n",
       "    }\n",
       "\n",
       "    .dataframe tbody tr th {\n",
       "        vertical-align: top;\n",
       "    }\n",
       "\n",
       "    .dataframe thead th {\n",
       "        text-align: right;\n",
       "    }\n",
       "</style>\n",
       "<table border=\"1\" class=\"dataframe\">\n",
       "  <thead>\n",
       "    <tr style=\"text-align: right;\">\n",
       "      <th></th>\n",
       "      <th>price</th>\n",
       "      <th>area</th>\n",
       "      <th>bedrooms</th>\n",
       "      <th>bathrooms</th>\n",
       "      <th>stories</th>\n",
       "      <th>mainroad</th>\n",
       "      <th>guestroom</th>\n",
       "      <th>basement</th>\n",
       "      <th>hotwaterheating</th>\n",
       "      <th>airconditioning</th>\n",
       "      <th>parking</th>\n",
       "      <th>prefarea</th>\n",
       "      <th>furnishingstatus</th>\n",
       "    </tr>\n",
       "  </thead>\n",
       "  <tbody>\n",
       "    <tr>\n",
       "      <th>0</th>\n",
       "      <td>13300000</td>\n",
       "      <td>7420</td>\n",
       "      <td>4</td>\n",
       "      <td>2</td>\n",
       "      <td>3</td>\n",
       "      <td>yes</td>\n",
       "      <td>no</td>\n",
       "      <td>no</td>\n",
       "      <td>no</td>\n",
       "      <td>yes</td>\n",
       "      <td>2</td>\n",
       "      <td>yes</td>\n",
       "      <td>furnished</td>\n",
       "    </tr>\n",
       "    <tr>\n",
       "      <th>1</th>\n",
       "      <td>12250000</td>\n",
       "      <td>8960</td>\n",
       "      <td>4</td>\n",
       "      <td>4</td>\n",
       "      <td>4</td>\n",
       "      <td>yes</td>\n",
       "      <td>no</td>\n",
       "      <td>no</td>\n",
       "      <td>no</td>\n",
       "      <td>yes</td>\n",
       "      <td>3</td>\n",
       "      <td>no</td>\n",
       "      <td>furnished</td>\n",
       "    </tr>\n",
       "    <tr>\n",
       "      <th>2</th>\n",
       "      <td>12250000</td>\n",
       "      <td>9960</td>\n",
       "      <td>3</td>\n",
       "      <td>2</td>\n",
       "      <td>2</td>\n",
       "      <td>yes</td>\n",
       "      <td>no</td>\n",
       "      <td>yes</td>\n",
       "      <td>no</td>\n",
       "      <td>no</td>\n",
       "      <td>2</td>\n",
       "      <td>yes</td>\n",
       "      <td>semi-furnished</td>\n",
       "    </tr>\n",
       "    <tr>\n",
       "      <th>3</th>\n",
       "      <td>12215000</td>\n",
       "      <td>7500</td>\n",
       "      <td>4</td>\n",
       "      <td>2</td>\n",
       "      <td>2</td>\n",
       "      <td>yes</td>\n",
       "      <td>no</td>\n",
       "      <td>yes</td>\n",
       "      <td>no</td>\n",
       "      <td>yes</td>\n",
       "      <td>3</td>\n",
       "      <td>yes</td>\n",
       "      <td>furnished</td>\n",
       "    </tr>\n",
       "    <tr>\n",
       "      <th>4</th>\n",
       "      <td>11410000</td>\n",
       "      <td>7420</td>\n",
       "      <td>4</td>\n",
       "      <td>1</td>\n",
       "      <td>2</td>\n",
       "      <td>yes</td>\n",
       "      <td>yes</td>\n",
       "      <td>yes</td>\n",
       "      <td>no</td>\n",
       "      <td>yes</td>\n",
       "      <td>2</td>\n",
       "      <td>no</td>\n",
       "      <td>furnished</td>\n",
       "    </tr>\n",
       "  </tbody>\n",
       "</table>\n",
       "</div>"
      ],
      "text/plain": [
       "      price  area  bedrooms  bathrooms  stories mainroad guestroom basement  \\\n",
       "0  13300000  7420         4          2        3      yes        no       no   \n",
       "1  12250000  8960         4          4        4      yes        no       no   \n",
       "2  12250000  9960         3          2        2      yes        no      yes   \n",
       "3  12215000  7500         4          2        2      yes        no      yes   \n",
       "4  11410000  7420         4          1        2      yes       yes      yes   \n",
       "\n",
       "  hotwaterheating airconditioning  parking prefarea furnishingstatus  \n",
       "0              no             yes        2      yes        furnished  \n",
       "1              no             yes        3       no        furnished  \n",
       "2              no              no        2      yes   semi-furnished  \n",
       "3              no             yes        3      yes        furnished  \n",
       "4              no             yes        2       no        furnished  "
      ]
     },
     "execution_count": 3,
     "metadata": {},
     "output_type": "execute_result"
    }
   ],
   "source": [
    "df = pd.read_csv('Housing.csv')\n",
    "df.head(5)"
   ]
  },
  {
   "cell_type": "markdown",
   "id": "a387ae97",
   "metadata": {},
   "source": [
    "### Data Overview"
   ]
  },
  {
   "cell_type": "markdown",
   "id": "c5c48a79",
   "metadata": {},
   "source": [
    "**price:** the price of the house (target value) </br>\n",
    "**area:** the area in plg^2 </br>\n",
    "**bedrooms:** number of bedrooms </br>\n",
    "**bathrooms:** number of bathrooms </br>\n",
    "**stories:** number of stories </br>\n",
    "**mainroad:** does it has mainroad? yes/no</br>\n",
    "**guestroom:** does it has guestroom? yes/no</br>\n",
    "**basement:** does it has basement? yes/no</br>\n",
    "**hotwaterheating:** does it has hotwaterheating? yes/no </br>\n",
    "**airconditioning:** does it has airconditioning? yes/no </br>\n",
    "**parking:** how many cars can you park into the house? yes/no</br>\n",
    "**prefarea:** does it has prefarea? yes/no</br>\n",
    "**furnishingstatus:** three status: furnished, semi-furnished, no furnished</br>"
   ]
  },
  {
   "cell_type": "code",
   "execution_count": 3,
   "id": "50732de0",
   "metadata": {},
   "outputs": [
    {
     "data": {
      "text/plain": [
       "Index(['price', 'area', 'bedrooms', 'bathrooms', 'stories', 'mainroad',\n",
       "       'guestroom', 'basement', 'hotwaterheating', 'airconditioning',\n",
       "       'parking', 'prefarea', 'furnishingstatus'],\n",
       "      dtype='object')"
      ]
     },
     "execution_count": 3,
     "metadata": {},
     "output_type": "execute_result"
    }
   ],
   "source": [
    "df.columns"
   ]
  },
  {
   "cell_type": "code",
   "execution_count": 4,
   "id": "03d0a1ce",
   "metadata": {},
   "outputs": [
    {
     "data": {
      "text/plain": [
       "(545, 13)"
      ]
     },
     "execution_count": 4,
     "metadata": {},
     "output_type": "execute_result"
    }
   ],
   "source": [
    "df.shape"
   ]
  },
  {
   "cell_type": "code",
   "execution_count": 5,
   "id": "a5a18558",
   "metadata": {},
   "outputs": [
    {
     "name": "stdout",
     "output_type": "stream",
     "text": [
      "<class 'pandas.core.frame.DataFrame'>\n",
      "RangeIndex: 545 entries, 0 to 544\n",
      "Data columns (total 13 columns):\n",
      " #   Column            Non-Null Count  Dtype \n",
      "---  ------            --------------  ----- \n",
      " 0   price             545 non-null    int64 \n",
      " 1   area              545 non-null    int64 \n",
      " 2   bedrooms          545 non-null    int64 \n",
      " 3   bathrooms         545 non-null    int64 \n",
      " 4   stories           545 non-null    int64 \n",
      " 5   mainroad          545 non-null    object\n",
      " 6   guestroom         545 non-null    object\n",
      " 7   basement          545 non-null    object\n",
      " 8   hotwaterheating   545 non-null    object\n",
      " 9   airconditioning   545 non-null    object\n",
      " 10  parking           545 non-null    int64 \n",
      " 11  prefarea          545 non-null    object\n",
      " 12  furnishingstatus  545 non-null    object\n",
      "dtypes: int64(6), object(7)\n",
      "memory usage: 55.5+ KB\n"
     ]
    }
   ],
   "source": [
    "df.info()"
   ]
  },
  {
   "cell_type": "code",
   "execution_count": 6,
   "id": "1b11d733",
   "metadata": {},
   "outputs": [
    {
     "data": {
      "text/plain": [
       "price               0\n",
       "area                0\n",
       "bedrooms            0\n",
       "bathrooms           0\n",
       "stories             0\n",
       "mainroad            0\n",
       "guestroom           0\n",
       "basement            0\n",
       "hotwaterheating     0\n",
       "airconditioning     0\n",
       "parking             0\n",
       "prefarea            0\n",
       "furnishingstatus    0\n",
       "dtype: int64"
      ]
     },
     "execution_count": 6,
     "metadata": {},
     "output_type": "execute_result"
    }
   ],
   "source": [
    "df.isna().sum()"
   ]
  },
  {
   "cell_type": "markdown",
   "id": "481f5d2b",
   "metadata": {},
   "source": [
    "There are no missing values nor null values"
   ]
  },
  {
   "cell_type": "code",
   "execution_count": 7,
   "id": "f0baab53",
   "metadata": {},
   "outputs": [
    {
     "data": {
      "text/html": [
       "<div>\n",
       "<style scoped>\n",
       "    .dataframe tbody tr th:only-of-type {\n",
       "        vertical-align: middle;\n",
       "    }\n",
       "\n",
       "    .dataframe tbody tr th {\n",
       "        vertical-align: top;\n",
       "    }\n",
       "\n",
       "    .dataframe thead th {\n",
       "        text-align: right;\n",
       "    }\n",
       "</style>\n",
       "<table border=\"1\" class=\"dataframe\">\n",
       "  <thead>\n",
       "    <tr style=\"text-align: right;\">\n",
       "      <th></th>\n",
       "      <th>price</th>\n",
       "      <th>area</th>\n",
       "      <th>bedrooms</th>\n",
       "      <th>bathrooms</th>\n",
       "      <th>stories</th>\n",
       "      <th>parking</th>\n",
       "    </tr>\n",
       "  </thead>\n",
       "  <tbody>\n",
       "    <tr>\n",
       "      <th>count</th>\n",
       "      <td>5.450000e+02</td>\n",
       "      <td>545.000000</td>\n",
       "      <td>545.000000</td>\n",
       "      <td>545.000000</td>\n",
       "      <td>545.000000</td>\n",
       "      <td>545.000000</td>\n",
       "    </tr>\n",
       "    <tr>\n",
       "      <th>mean</th>\n",
       "      <td>4.766729e+06</td>\n",
       "      <td>5150.541284</td>\n",
       "      <td>2.965138</td>\n",
       "      <td>1.286239</td>\n",
       "      <td>1.805505</td>\n",
       "      <td>0.693578</td>\n",
       "    </tr>\n",
       "    <tr>\n",
       "      <th>std</th>\n",
       "      <td>1.870440e+06</td>\n",
       "      <td>2170.141023</td>\n",
       "      <td>0.738064</td>\n",
       "      <td>0.502470</td>\n",
       "      <td>0.867492</td>\n",
       "      <td>0.861586</td>\n",
       "    </tr>\n",
       "    <tr>\n",
       "      <th>min</th>\n",
       "      <td>1.750000e+06</td>\n",
       "      <td>1650.000000</td>\n",
       "      <td>1.000000</td>\n",
       "      <td>1.000000</td>\n",
       "      <td>1.000000</td>\n",
       "      <td>0.000000</td>\n",
       "    </tr>\n",
       "    <tr>\n",
       "      <th>25%</th>\n",
       "      <td>3.430000e+06</td>\n",
       "      <td>3600.000000</td>\n",
       "      <td>2.000000</td>\n",
       "      <td>1.000000</td>\n",
       "      <td>1.000000</td>\n",
       "      <td>0.000000</td>\n",
       "    </tr>\n",
       "    <tr>\n",
       "      <th>50%</th>\n",
       "      <td>4.340000e+06</td>\n",
       "      <td>4600.000000</td>\n",
       "      <td>3.000000</td>\n",
       "      <td>1.000000</td>\n",
       "      <td>2.000000</td>\n",
       "      <td>0.000000</td>\n",
       "    </tr>\n",
       "    <tr>\n",
       "      <th>75%</th>\n",
       "      <td>5.740000e+06</td>\n",
       "      <td>6360.000000</td>\n",
       "      <td>3.000000</td>\n",
       "      <td>2.000000</td>\n",
       "      <td>2.000000</td>\n",
       "      <td>1.000000</td>\n",
       "    </tr>\n",
       "    <tr>\n",
       "      <th>max</th>\n",
       "      <td>1.330000e+07</td>\n",
       "      <td>16200.000000</td>\n",
       "      <td>6.000000</td>\n",
       "      <td>4.000000</td>\n",
       "      <td>4.000000</td>\n",
       "      <td>3.000000</td>\n",
       "    </tr>\n",
       "  </tbody>\n",
       "</table>\n",
       "</div>"
      ],
      "text/plain": [
       "              price          area    bedrooms   bathrooms     stories  \\\n",
       "count  5.450000e+02    545.000000  545.000000  545.000000  545.000000   \n",
       "mean   4.766729e+06   5150.541284    2.965138    1.286239    1.805505   \n",
       "std    1.870440e+06   2170.141023    0.738064    0.502470    0.867492   \n",
       "min    1.750000e+06   1650.000000    1.000000    1.000000    1.000000   \n",
       "25%    3.430000e+06   3600.000000    2.000000    1.000000    1.000000   \n",
       "50%    4.340000e+06   4600.000000    3.000000    1.000000    2.000000   \n",
       "75%    5.740000e+06   6360.000000    3.000000    2.000000    2.000000   \n",
       "max    1.330000e+07  16200.000000    6.000000    4.000000    4.000000   \n",
       "\n",
       "          parking  \n",
       "count  545.000000  \n",
       "mean     0.693578  \n",
       "std      0.861586  \n",
       "min      0.000000  \n",
       "25%      0.000000  \n",
       "50%      0.000000  \n",
       "75%      1.000000  \n",
       "max      3.000000  "
      ]
     },
     "execution_count": 7,
     "metadata": {},
     "output_type": "execute_result"
    }
   ],
   "source": [
    "df.describe(exclude='object')"
   ]
  },
  {
   "cell_type": "markdown",
   "id": "64e83d15",
   "metadata": {},
   "source": [
    "Price and area have a higher standard devation, so these could mean that there is a lot of variance and more spread out.</br>\n",
    "Meanwhile the others(bed,bath,stor,park) have a few of standard deviation, so they are clustered tightly around the mean."
   ]
  },
  {
   "cell_type": "code",
   "execution_count": 18,
   "id": "cfee59af",
   "metadata": {},
   "outputs": [
    {
     "data": {
      "text/html": [
       "<div>\n",
       "<style scoped>\n",
       "    .dataframe tbody tr th:only-of-type {\n",
       "        vertical-align: middle;\n",
       "    }\n",
       "\n",
       "    .dataframe tbody tr th {\n",
       "        vertical-align: top;\n",
       "    }\n",
       "\n",
       "    .dataframe thead th {\n",
       "        text-align: right;\n",
       "    }\n",
       "</style>\n",
       "<table border=\"1\" class=\"dataframe\">\n",
       "  <thead>\n",
       "    <tr style=\"text-align: right;\">\n",
       "      <th></th>\n",
       "      <th>mainroad</th>\n",
       "      <th>guestroom</th>\n",
       "      <th>basement</th>\n",
       "      <th>hotwaterheating</th>\n",
       "      <th>airconditioning</th>\n",
       "      <th>prefarea</th>\n",
       "      <th>furnishingstatus</th>\n",
       "    </tr>\n",
       "  </thead>\n",
       "  <tbody>\n",
       "    <tr>\n",
       "      <th>count</th>\n",
       "      <td>545</td>\n",
       "      <td>545</td>\n",
       "      <td>545</td>\n",
       "      <td>545</td>\n",
       "      <td>545</td>\n",
       "      <td>545</td>\n",
       "      <td>545</td>\n",
       "    </tr>\n",
       "    <tr>\n",
       "      <th>unique</th>\n",
       "      <td>2</td>\n",
       "      <td>2</td>\n",
       "      <td>2</td>\n",
       "      <td>2</td>\n",
       "      <td>2</td>\n",
       "      <td>2</td>\n",
       "      <td>3</td>\n",
       "    </tr>\n",
       "    <tr>\n",
       "      <th>top</th>\n",
       "      <td>yes</td>\n",
       "      <td>no</td>\n",
       "      <td>no</td>\n",
       "      <td>no</td>\n",
       "      <td>no</td>\n",
       "      <td>no</td>\n",
       "      <td>semi-furnished</td>\n",
       "    </tr>\n",
       "    <tr>\n",
       "      <th>freq</th>\n",
       "      <td>468</td>\n",
       "      <td>448</td>\n",
       "      <td>354</td>\n",
       "      <td>520</td>\n",
       "      <td>373</td>\n",
       "      <td>417</td>\n",
       "      <td>227</td>\n",
       "    </tr>\n",
       "  </tbody>\n",
       "</table>\n",
       "</div>"
      ],
      "text/plain": [
       "       mainroad guestroom basement hotwaterheating airconditioning prefarea  \\\n",
       "count       545       545      545             545             545      545   \n",
       "unique        2         2        2               2               2        2   \n",
       "top         yes        no       no              no              no       no   \n",
       "freq        468       448      354             520             373      417   \n",
       "\n",
       "       furnishingstatus  \n",
       "count               545  \n",
       "unique                3  \n",
       "top      semi-furnished  \n",
       "freq                227  "
      ]
     },
     "execution_count": 18,
     "metadata": {},
     "output_type": "execute_result"
    }
   ],
   "source": [
    "df.describe(exclude='int64')"
   ]
  },
  {
   "cell_type": "markdown",
   "id": "343f8768",
   "metadata": {},
   "source": [
    "Comments:</br>\n",
    "All the data is complete, it doesn't have missing values, each feature has at least 2 values or states.</br>\n",
    "We need to converse these columns in numeric values for regression modeling."
   ]
  },
  {
   "cell_type": "markdown",
   "id": "cb23264c",
   "metadata": {},
   "source": [
    "### Exploratory Data Analysis\n",
    "#### 1. categorical columns"
   ]
  },
  {
   "cell_type": "code",
   "execution_count": 5,
   "id": "fa7b8ab8",
   "metadata": {},
   "outputs": [
    {
     "data": {
      "text/plain": [
       "Int64Index([3150000, 3500000, 4200000, 4900000, 5600000], dtype='int64')"
      ]
     },
     "execution_count": 5,
     "metadata": {},
     "output_type": "execute_result"
    }
   ],
   "source": [
    " df['price'].value_counts().index[:5].sort_values()"
   ]
  },
  {
   "cell_type": "code",
   "execution_count": 6,
   "id": "a17aaf92",
   "metadata": {},
   "outputs": [],
   "source": [
    "#definying a plot\n",
    "def fine_barplot(dataframe, x_label, perc=False, n=None):\n",
    "    \"\"\"\n",
    "    Barplot with percentage option\n",
    "    dataframe: df input \n",
    "    x_label: the features in datataframe\n",
    "    perce: do you want percentage option?\n",
    "    n: the size in x\n",
    "    \"\"\"\n",
    "    \n",
    "    total = len(dataframe[x_label]) # length of the column\n",
    "    count = dataframe[x_label].nunique() #count of value uniques\n",
    "    \n",
    "    #1. Defining the size of the plot\n",
    "    if n is None:\n",
    "        plt.figure(figsize=(count + 1, 5))\n",
    "    else:\n",
    "        plt.figure(figsize=(n+1, 5))\n",
    "    \n",
    "    #2. creating the plot with COUNTPLOT of seaborn and saving it in ax variable\n",
    "    ax = sns.countplot(\n",
    "        data=dataframe,\n",
    "        x=x_label,\n",
    "        palette=\"Paired\"\n",
    "    )\n",
    "    \n",
    "    #3. Defining the percentage option, getting percentage in \"label\"\n",
    "    for p in ax.patches:\n",
    "        if perc == True:\n",
    "            label = \"{:.1f}%\".format(\n",
    "                100 * p.get_height()/ total\n",
    "            ) # setting the percentage of each class of the categor\n",
    "        else: #Show only the total\n",
    "            label = p.get_height()\n",
    "        \n",
    "        x = p.get_x() + p.get_width() / 2  # width of the bar\n",
    "        y = p.get_height()  # height of the bar\n",
    "        \n",
    "        #here we write what we got in \"label\"\n",
    "        ax.annotate(\n",
    "            label,\n",
    "            (x,y),\n",
    "            ha=\"center\",\n",
    "            va=\"center\",\n",
    "            size=12,\n",
    "            xytext=(0,5),\n",
    "            textcoords=\"offset points\"\n",
    "        )\n",
    "    plt.show()"
   ]
  },
  {
   "cell_type": "markdown",
   "id": "261c9e63",
   "metadata": {},
   "source": [
    "#### 1.1 mainroad"
   ]
  },
  {
   "cell_type": "code",
   "execution_count": 7,
   "id": "096650ee",
   "metadata": {},
   "outputs": [
    {
     "data": {
      "image/png": "[encoded data removed]",
      "text/plain": [
       "<Figure size 216x360 with 1 Axes>"
      ]
     },
     "metadata": {},
     "output_type": "display_data"
    }
   ],
   "source": [
    "fine_barplot(df,'mainroad',perc=True)"
   ]
  },
  {
   "cell_type": "code",
   "execution_count": 8,
   "id": "3b855420",
   "metadata": {},
   "outputs": [
    {
     "data": {
      "text/plain": [
       "yes    468\n",
       "no      77\n",
       "Name: mainroad, dtype: int64"
      ]
     },
     "execution_count": 8,
     "metadata": {},
     "output_type": "execute_result"
    }
   ],
   "source": [
    "df['mainroad'].value_counts()"
   ]
  },
  {
   "cell_type": "markdown",
   "id": "499ee337",
   "metadata": {},
   "source": [
    "#### 1.2 guestroom"
   ]
  },
  {
   "cell_type": "code",
   "execution_count": 87,
   "id": "28946e80",
   "metadata": {},
   "outputs": [
    {
     "data": {
      "image/png": "[encoded data removed]",
      "text/plain": [
       "<Figure size 216x360 with 1 Axes>"
      ]
     },
     "metadata": {},
     "output_type": "display_data"
    }
   ],
   "source": [
    "fine_barplot(df,'guestroom',perc=True)"
   ]
  },
  {
   "cell_type": "code",
   "execution_count": 82,
   "id": "fb80f3a7",
   "metadata": {},
   "outputs": [
    {
     "data": {
      "text/plain": [
       "no     448\n",
       "yes     97\n",
       "Name: guestroom, dtype: int64"
      ]
     },
     "execution_count": 82,
     "metadata": {},
     "output_type": "execute_result"
    }
   ],
   "source": [
    "df['guestroom'].value_counts()"
   ]
  },
  {
   "cell_type": "markdown",
   "id": "0413611d",
   "metadata": {},
   "source": [
    "#### 1.3 basement"
   ]
  },
  {
   "cell_type": "code",
   "execution_count": 88,
   "id": "eec09d00",
   "metadata": {},
   "outputs": [
    {
     "data": {
      "image/png": "[encoded data removed]",
      "text/plain": [
       "<Figure size 216x360 with 1 Axes>"
      ]
     },
     "metadata": {},
     "output_type": "display_data"
    }
   ],
   "source": [
    "fine_barplot(df,'basement',perc=True)"
   ]
  },
  {
   "cell_type": "code",
   "execution_count": 23,
   "id": "cce5e7ea",
   "metadata": {},
   "outputs": [
    {
     "data": {
      "text/plain": [
       "no     354\n",
       "yes    191\n",
       "Name: basement, dtype: int64"
      ]
     },
     "execution_count": 23,
     "metadata": {},
     "output_type": "execute_result"
    }
   ],
   "source": [
    "df['basement'].value_counts()"
   ]
  },
  {
   "cell_type": "markdown",
   "id": "38e86509",
   "metadata": {},
   "source": [
    "#### 1.4 hotwaterheating"
   ]
  },
  {
   "cell_type": "code",
   "execution_count": 89,
   "id": "d228a71b",
   "metadata": {},
   "outputs": [
    {
     "data": {
      "image/png": "[encoded data removed]",
      "text/plain": [
       "<Figure size 216x360 with 1 Axes>"
      ]
     },
     "metadata": {},
     "output_type": "display_data"
    }
   ],
   "source": [
    "fine_barplot(df,'hotwaterheating',perc=True)"
   ]
  },
  {
   "cell_type": "code",
   "execution_count": 90,
   "id": "de0f8bb0",
   "metadata": {},
   "outputs": [
    {
     "data": {
      "text/plain": [
       "no     520\n",
       "yes     25\n",
       "Name: hotwaterheating, dtype: int64"
      ]
     },
     "execution_count": 90,
     "metadata": {},
     "output_type": "execute_result"
    }
   ],
   "source": [
    "df['hotwaterheating'].value_counts()"
   ]
  },
  {
   "cell_type": "markdown",
   "id": "fe24122b",
   "metadata": {},
   "source": [
    "#### 1.5 airconditioning"
   ]
  },
  {
   "cell_type": "code",
   "execution_count": 95,
   "id": "0991950c",
   "metadata": {},
   "outputs": [
    {
     "data": {
      "image/png": "[encoded data removed]",
      "text/plain": [
       "<Figure size 216x360 with 1 Axes>"
      ]
     },
     "metadata": {},
     "output_type": "display_data"
    }
   ],
   "source": [
    "fine_barplot(df,'airconditioning',perc=True)"
   ]
  },
  {
   "cell_type": "code",
   "execution_count": 93,
   "id": "ab15107e",
   "metadata": {
    "scrolled": true
   },
   "outputs": [
    {
     "data": {
      "text/plain": [
       "no     373\n",
       "yes    172\n",
       "Name: airconditioning, dtype: int64"
      ]
     },
     "execution_count": 93,
     "metadata": {},
     "output_type": "execute_result"
    }
   ],
   "source": [
    "df['airconditioning'].value_counts()"
   ]
  },
  {
   "cell_type": "markdown",
   "id": "8f987a9a",
   "metadata": {},
   "source": [
    "#### 1.6 prefarea"
   ]
  },
  {
   "cell_type": "code",
   "execution_count": 100,
   "id": "8947425f",
   "metadata": {},
   "outputs": [
    {
     "data": {
      "image/png": "[encoded data removed]",
      "text/plain": [
       "<Figure size 216x360 with 1 Axes>"
      ]
     },
     "metadata": {},
     "output_type": "display_data"
    }
   ],
   "source": [
    "fine_barplot(df,'prefarea',perc=True)"
   ]
  },
  {
   "cell_type": "code",
   "execution_count": 26,
   "id": "d119c402",
   "metadata": {},
   "outputs": [
    {
     "data": {
      "text/plain": [
       "no     417\n",
       "yes    128\n",
       "Name: prefarea, dtype: int64"
      ]
     },
     "execution_count": 26,
     "metadata": {},
     "output_type": "execute_result"
    }
   ],
   "source": [
    "df['prefarea'].value_counts()"
   ]
  },
  {
   "cell_type": "markdown",
   "id": "9d79c6f0",
   "metadata": {},
   "source": [
    "#### 1.7 furnishingstatus"
   ]
  },
  {
   "cell_type": "code",
   "execution_count": 106,
   "id": "0956c90f",
   "metadata": {},
   "outputs": [
    {
     "data": {
      "image/png": "[encoded data removed]",
      "text/plain": [
       "<Figure size 288x360 with 1 Axes>"
      ]
     },
     "metadata": {},
     "output_type": "display_data"
    }
   ],
   "source": [
    "fine_barplot(df,'furnishingstatus',perc=True, n=None)"
   ]
  },
  {
   "cell_type": "code",
   "execution_count": 98,
   "id": "7da249dd",
   "metadata": {},
   "outputs": [
    {
     "data": {
      "text/plain": [
       "semi-furnished    227\n",
       "unfurnished       178\n",
       "furnished         140\n",
       "Name: furnishingstatus, dtype: int64"
      ]
     },
     "execution_count": 98,
     "metadata": {},
     "output_type": "execute_result"
    }
   ],
   "source": [
    "df['furnishingstatus'].value_counts()"
   ]
  },
  {
   "cell_type": "markdown",
   "id": "d82d8d34",
   "metadata": {},
   "source": [
    "#### 2. Numerical  Columns"
   ]
  },
  {
   "cell_type": "code",
   "execution_count": 9,
   "id": "1b0d00a4",
   "metadata": {},
   "outputs": [],
   "source": [
    "#defining boxplot and histogram in one picture\n",
    "def box_histo_plot(dataframe, x_label, figsize=(12,7), kde=False, bins=None):\n",
    "    \"\"\"\n",
    "    dataframe: dataframe of data\n",
    "    xlabel: feaure/s of the dataframe\n",
    "    figsize: dimensions of the figure\n",
    "    kde: does it show a density curve?\n",
    "    bins: number of bins in the histogram (default None)\n",
    "    \"\"\"\n",
    "    \n",
    "    #1) creating 2 subplots in 2 roes\n",
    "    f2, (ax_box2, ax_hist2) = plt.subplots(\n",
    "        nrows=2,\n",
    "        sharex=True, #share x-axis among all the subplots\n",
    "        gridspec_kw={\"height_ratios\": (0.25, 0.75)},\n",
    "        figsize=figsize,\n",
    "    )\n",
    "    \n",
    "    #2.1) Adding boxplot in one first subplot\n",
    "    sns.boxplot(\n",
    "        data=dataframe, x=x_label, \n",
    "        ax=ax_box2, ##adding boxplot in subplot\n",
    "        color=\"green\"\n",
    "    )\n",
    "    ax_box2.axvline(\n",
    "        dataframe[x_label].mean(), color=\"yellow\", linestyle=\"-.\"\n",
    "    )\n",
    "    \n",
    "    #2.2) Adding the histogram in second subplot\n",
    "    if bins:#if we in arguments input define bins \n",
    "        sns.histplot(\n",
    "            data=dataframe, x=x_labelure, kde=kde, \n",
    "            ax=ax_hist2, #addung histogram in subplot\n",
    "            bins=bins, palette=\"winter\")\n",
    "    else:\n",
    "        sns.histplot(data=dataframe, x=x_label, kde=kde, ax=ax_hist2)\n",
    "    \n",
    "    #Adding mean line to the histogram\n",
    "    ax_hist2.axvline(\n",
    "        dataframe[x_label].mean(), color=\"yellow\", linestyle=\"-.\"\n",
    "    )\n",
    "    \n",
    "    #Adding median line to the histogram    \n",
    "    ax_hist2.axvline(\n",
    "        dataframe[x_label].median(), color=\"red\", linestyle=\"--\"\n",
    "    )\n",
    "    plt.show()"
   ]
  },
  {
   "cell_type": "markdown",
   "id": "b0625b23",
   "metadata": {},
   "source": [
    "#### 2.1 price"
   ]
  },
  {
   "cell_type": "code",
   "execution_count": 10,
   "id": "b3af4de3",
   "metadata": {},
   "outputs": [
    {
     "data": {
      "image/png": "[encoded data removed]",
      "text/plain": [
       "<Figure size 864x504 with 2 Axes>"
      ]
     },
     "metadata": {},
     "output_type": "display_data"
    }
   ],
   "source": [
    "box_histo_plot(df, \"price\");"
   ]
  },
  {
   "cell_type": "code",
   "execution_count": 156,
   "id": "2b14e83a",
   "metadata": {},
   "outputs": [
    {
     "data": {
      "text/plain": [
       "Index(['price', 'area', 'bedrooms', 'bathrooms', 'stories', 'parking'], dtype='object')"
      ]
     },
     "execution_count": 156,
     "metadata": {},
     "output_type": "execute_result"
    }
   ],
   "source": [
    "df.select_dtypes(include='number').columns"
   ]
  },
  {
   "cell_type": "markdown",
   "id": "44421c3e",
   "metadata": {},
   "source": [
    "#### 2.2 area"
   ]
  },
  {
   "cell_type": "code",
   "execution_count": 157,
   "id": "085b19c8",
   "metadata": {},
   "outputs": [
    {
     "data": {
      "image/png": "[encoded data removed]",
      "text/plain": [
       "<Figure size 864x504 with 2 Axes>"
      ]
     },
     "metadata": {},
     "output_type": "display_data"
    }
   ],
   "source": [
    "box_histo_plot(df, \"area\");"
   ]
  },
  {
   "cell_type": "markdown",
   "id": "003bc99c",
   "metadata": {},
   "source": [
    "#### 2.3 bedrooms"
   ]
  },
  {
   "cell_type": "code",
   "execution_count": 158,
   "id": "06e4d825",
   "metadata": {},
   "outputs": [
    {
     "data": {
      "image/png": "[encoded data removed]",
      "text/plain": [
       "<Figure size 576x360 with 2 Axes>"
      ]
     },
     "metadata": {},
     "output_type": "display_data"
    }
   ],
   "source": [
    "box_histo_plot(df, \"bedrooms\",figsize=(8,5))"
   ]
  },
  {
   "cell_type": "markdown",
   "id": "f7310aec",
   "metadata": {},
   "source": [
    "#### 2.4 bathrooms"
   ]
  },
  {
   "cell_type": "code",
   "execution_count": 159,
   "id": "5cfee462",
   "metadata": {},
   "outputs": [
    {
     "data": {
      "image/png": "[encoded data removed]",
      "text/plain": [
       "<Figure size 576x360 with 2 Axes>"
      ]
     },
     "metadata": {},
     "output_type": "display_data"
    }
   ],
   "source": [
    "box_histo_plot(df,'bathrooms',figsize=(8,5))"
   ]
  },
  {
   "cell_type": "markdown",
   "id": "59ba4109",
   "metadata": {},
   "source": [
    "#### 2.5 stories"
   ]
  },
  {
   "cell_type": "code",
   "execution_count": 160,
   "id": "6bf1cbe4",
   "metadata": {},
   "outputs": [
    {
     "data": {
      "image/png": "[encoded data removed]",
      "text/plain": [
       "<Figure size 576x360 with 2 Axes>"
      ]
     },
     "metadata": {},
     "output_type": "display_data"
    }
   ],
   "source": [
    "box_histo_plot(df,'stories',figsize=(8,5))"
   ]
  },
  {
   "cell_type": "markdown",
   "id": "81457f9e",
   "metadata": {},
   "source": [
    "#### 2.6 parking"
   ]
  },
  {
   "cell_type": "code",
   "execution_count": 161,
   "id": "e00ce234",
   "metadata": {},
   "outputs": [
    {
     "data": {
      "image/png": "[encoded data removed]",
      "text/plain": [
       "<Figure size 576x360 with 2 Axes>"
      ]
     },
     "metadata": {},
     "output_type": "display_data"
    }
   ],
   "source": [
    "box_histo_plot(df,'parking',figsize=(8,5))"
   ]
  },
  {
   "cell_type": "markdown",
   "id": "9b259f33",
   "metadata": {},
   "source": [
    "## Bivariate Analysis\n",
    "#### Let's look at correlations"
   ]
  },
  {
   "cell_type": "code",
   "execution_count": 11,
   "id": "c669ac3d",
   "metadata": {},
   "outputs": [
    {
     "data": {
      "text/plain": [
       "price        1.000000\n",
       "area         0.535997\n",
       "bedrooms     0.366494\n",
       "bathrooms    0.517545\n",
       "stories      0.420712\n",
       "parking      0.384394\n",
       "Name: price, dtype: float64"
      ]
     },
     "execution_count": 11,
     "metadata": {},
     "output_type": "execute_result"
    }
   ],
   "source": [
    "df[df.columns[:]].corr()[\"price\"][:]"
   ]
  },
  {
   "cell_type": "markdown",
   "id": "8ad5db20",
   "metadata": {},
   "source": [
    "As we can see in numerical columns, with regards to price as a target value, the correlation is low among all the variables, only *area* and *bathrooms* have a little correlation."
   ]
  },
  {
   "cell_type": "code",
   "execution_count": 18,
   "id": "d5799438",
   "metadata": {
    "scrolled": true
   },
   "outputs": [
    {
     "data": {
      "image/png": "[encoded data removed]",
      "text/plain": [
       "<Figure size 720x360 with 2 Axes>"
      ]
     },
     "metadata": {},
     "output_type": "display_data"
    }
   ],
   "source": [
    "numeric_columns=df.select_dtypes(include='number').columns.tolist()\n",
    "#numeric_columns.remove(\"price\")\n",
    "\n",
    "#correlations heatmap\n",
    "plt.figure(figsize=(10, 5))\n",
    "sns.heatmap(\n",
    "    df[numeric_columns].corr(),\n",
    "    annot=True,\n",
    "    vmin=-1,\n",
    "    vmax=1,\n",
    "    fmt=\".2f\",\n",
    "    cmap=\"Spectral\",\n",
    ")\n",
    "plt.show()"
   ]
  },
  {
   "cell_type": "markdown",
   "id": "4f43d786",
   "metadata": {},
   "source": [
    "**Comments:**\n",
    "* By means of this graphic we can say that the predicted value: *price*, maitains a little positive correlation among area and bathrooms, it makes sense because the more surface area there is, the higher the price, and the more bathrooms there are, the higher the price."
   ]
  },
  {
   "cell_type": "markdown",
   "id": "77bbb99c",
   "metadata": {},
   "source": [
    "### Building Linear Model "
   ]
  },
  {
   "cell_type": "markdown",
   "id": "cf81c326",
   "metadata": {},
   "source": [
    "1. We're going to separate actual and predicted values in two lists"
   ]
  },
  {
   "cell_type": "code",
   "execution_count": 20,
   "id": "762bb6b7",
   "metadata": {},
   "outputs": [],
   "source": [
    "# defining X and y variables\n",
    "X = df.drop([\"price\"], axis=1)\n",
    "y = df[\"price\"]"
   ]
  },
  {
   "cell_type": "code",
   "execution_count": 21,
   "id": "c5ebb9ee",
   "metadata": {},
   "outputs": [
    {
     "data": {
      "text/html": [
       "<div>\n",
       "<style scoped>\n",
       "    .dataframe tbody tr th:only-of-type {\n",
       "        vertical-align: middle;\n",
       "    }\n",
       "\n",
       "    .dataframe tbody tr th {\n",
       "        vertical-align: top;\n",
       "    }\n",
       "\n",
       "    .dataframe thead th {\n",
       "        text-align: right;\n",
       "    }\n",
       "</style>\n",
       "<table border=\"1\" class=\"dataframe\">\n",
       "  <thead>\n",
       "    <tr style=\"text-align: right;\">\n",
       "      <th></th>\n",
       "      <th>area</th>\n",
       "      <th>bedrooms</th>\n",
       "      <th>bathrooms</th>\n",
       "      <th>stories</th>\n",
       "      <th>mainroad</th>\n",
       "      <th>guestroom</th>\n",
       "      <th>basement</th>\n",
       "      <th>hotwaterheating</th>\n",
       "      <th>airconditioning</th>\n",
       "      <th>parking</th>\n",
       "      <th>prefarea</th>\n",
       "      <th>furnishingstatus</th>\n",
       "    </tr>\n",
       "  </thead>\n",
       "  <tbody>\n",
       "    <tr>\n",
       "      <th>0</th>\n",
       "      <td>7420</td>\n",
       "      <td>4</td>\n",
       "      <td>2</td>\n",
       "      <td>3</td>\n",
       "      <td>yes</td>\n",
       "      <td>no</td>\n",
       "      <td>no</td>\n",
       "      <td>no</td>\n",
       "      <td>yes</td>\n",
       "      <td>2</td>\n",
       "      <td>yes</td>\n",
       "      <td>furnished</td>\n",
       "    </tr>\n",
       "    <tr>\n",
       "      <th>1</th>\n",
       "      <td>8960</td>\n",
       "      <td>4</td>\n",
       "      <td>4</td>\n",
       "      <td>4</td>\n",
       "      <td>yes</td>\n",
       "      <td>no</td>\n",
       "      <td>no</td>\n",
       "      <td>no</td>\n",
       "      <td>yes</td>\n",
       "      <td>3</td>\n",
       "      <td>no</td>\n",
       "      <td>furnished</td>\n",
       "    </tr>\n",
       "    <tr>\n",
       "      <th>2</th>\n",
       "      <td>9960</td>\n",
       "      <td>3</td>\n",
       "      <td>2</td>\n",
       "      <td>2</td>\n",
       "      <td>yes</td>\n",
       "      <td>no</td>\n",
       "      <td>yes</td>\n",
       "      <td>no</td>\n",
       "      <td>no</td>\n",
       "      <td>2</td>\n",
       "      <td>yes</td>\n",
       "      <td>semi-furnished</td>\n",
       "    </tr>\n",
       "    <tr>\n",
       "      <th>3</th>\n",
       "      <td>7500</td>\n",
       "      <td>4</td>\n",
       "      <td>2</td>\n",
       "      <td>2</td>\n",
       "      <td>yes</td>\n",
       "      <td>no</td>\n",
       "      <td>yes</td>\n",
       "      <td>no</td>\n",
       "      <td>yes</td>\n",
       "      <td>3</td>\n",
       "      <td>yes</td>\n",
       "      <td>furnished</td>\n",
       "    </tr>\n",
       "    <tr>\n",
       "      <th>4</th>\n",
       "      <td>7420</td>\n",
       "      <td>4</td>\n",
       "      <td>1</td>\n",
       "      <td>2</td>\n",
       "      <td>yes</td>\n",
       "      <td>yes</td>\n",
       "      <td>yes</td>\n",
       "      <td>no</td>\n",
       "      <td>yes</td>\n",
       "      <td>2</td>\n",
       "      <td>no</td>\n",
       "      <td>furnished</td>\n",
       "    </tr>\n",
       "  </tbody>\n",
       "</table>\n",
       "</div>"
      ],
      "text/plain": [
       "   area  bedrooms  bathrooms  stories mainroad guestroom basement  \\\n",
       "0  7420         4          2        3      yes        no       no   \n",
       "1  8960         4          4        4      yes        no       no   \n",
       "2  9960         3          2        2      yes        no      yes   \n",
       "3  7500         4          2        2      yes        no      yes   \n",
       "4  7420         4          1        2      yes       yes      yes   \n",
       "\n",
       "  hotwaterheating airconditioning  parking prefarea furnishingstatus  \n",
       "0              no             yes        2      yes        furnished  \n",
       "1              no             yes        3       no        furnished  \n",
       "2              no              no        2      yes   semi-furnished  \n",
       "3              no             yes        3      yes        furnished  \n",
       "4              no             yes        2       no        furnished  "
      ]
     },
     "execution_count": 21,
     "metadata": {},
     "output_type": "execute_result"
    }
   ],
   "source": [
    "X.head()"
   ]
  },
  {
   "cell_type": "code",
   "execution_count": 22,
   "id": "fbdd9380",
   "metadata": {},
   "outputs": [
    {
     "data": {
      "text/plain": [
       "0    13300000\n",
       "1    12250000\n",
       "2    12250000\n",
       "3    12215000\n",
       "4    11410000\n",
       "Name: price, dtype: int64"
      ]
     },
     "execution_count": 22,
     "metadata": {},
     "output_type": "execute_result"
    }
   ],
   "source": [
    "y.head()"
   ]
  },
  {
   "cell_type": "markdown",
   "id": "abcc71e0",
   "metadata": {},
   "source": [
    "2  We're going to build encode the categorical values into numerical values"
   ]
  },
  {
   "cell_type": "code",
   "execution_count": 23,
   "id": "4eb42813",
   "metadata": {},
   "outputs": [
    {
     "name": "stderr",
     "output_type": "stream",
     "text": [
      "C:\\Users\\USER\\anaconda3\\lib\\site-packages\\statsmodels\\tsa\\tsatools.py:142: FutureWarning: In a future version of pandas all arguments of concat except for the argument 'objs' will be keyword-only\n",
      "  x = pd.concat(x[::order], 1)\n"
     ]
    }
   ],
   "source": [
    "# Let's add an intercept to feature values, by adding a new column \n",
    "X = sm.add_constant(X)"
   ]
  },
  {
   "cell_type": "code",
   "execution_count": 25,
   "id": "50b54f4d",
   "metadata": {},
   "outputs": [
    {
     "data": {
      "text/html": [
       "<div>\n",
       "<style scoped>\n",
       "    .dataframe tbody tr th:only-of-type {\n",
       "        vertical-align: middle;\n",
       "    }\n",
       "\n",
       "    .dataframe tbody tr th {\n",
       "        vertical-align: top;\n",
       "    }\n",
       "\n",
       "    .dataframe thead th {\n",
       "        text-align: right;\n",
       "    }\n",
       "</style>\n",
       "<table border=\"1\" class=\"dataframe\">\n",
       "  <thead>\n",
       "    <tr style=\"text-align: right;\">\n",
       "      <th></th>\n",
       "      <th>const</th>\n",
       "      <th>area</th>\n",
       "      <th>bedrooms</th>\n",
       "      <th>bathrooms</th>\n",
       "      <th>stories</th>\n",
       "      <th>parking</th>\n",
       "      <th>mainroad_yes</th>\n",
       "      <th>guestroom_yes</th>\n",
       "      <th>basement_yes</th>\n",
       "      <th>hotwaterheating_yes</th>\n",
       "      <th>airconditioning_yes</th>\n",
       "      <th>prefarea_yes</th>\n",
       "      <th>furnishingstatus_semi-furnished</th>\n",
       "      <th>furnishingstatus_unfurnished</th>\n",
       "    </tr>\n",
       "  </thead>\n",
       "  <tbody>\n",
       "    <tr>\n",
       "      <th>0</th>\n",
       "      <td>1.0</td>\n",
       "      <td>7420</td>\n",
       "      <td>4</td>\n",
       "      <td>2</td>\n",
       "      <td>3</td>\n",
       "      <td>2</td>\n",
       "      <td>1</td>\n",
       "      <td>0</td>\n",
       "      <td>0</td>\n",
       "      <td>0</td>\n",
       "      <td>1</td>\n",
       "      <td>1</td>\n",
       "      <td>0</td>\n",
       "      <td>0</td>\n",
       "    </tr>\n",
       "    <tr>\n",
       "      <th>1</th>\n",
       "      <td>1.0</td>\n",
       "      <td>8960</td>\n",
       "      <td>4</td>\n",
       "      <td>4</td>\n",
       "      <td>4</td>\n",
       "      <td>3</td>\n",
       "      <td>1</td>\n",
       "      <td>0</td>\n",
       "      <td>0</td>\n",
       "      <td>0</td>\n",
       "      <td>1</td>\n",
       "      <td>0</td>\n",
       "      <td>0</td>\n",
       "      <td>0</td>\n",
       "    </tr>\n",
       "    <tr>\n",
       "      <th>2</th>\n",
       "      <td>1.0</td>\n",
       "      <td>9960</td>\n",
       "      <td>3</td>\n",
       "      <td>2</td>\n",
       "      <td>2</td>\n",
       "      <td>2</td>\n",
       "      <td>1</td>\n",
       "      <td>0</td>\n",
       "      <td>1</td>\n",
       "      <td>0</td>\n",
       "      <td>0</td>\n",
       "      <td>1</td>\n",
       "      <td>1</td>\n",
       "      <td>0</td>\n",
       "    </tr>\n",
       "    <tr>\n",
       "      <th>3</th>\n",
       "      <td>1.0</td>\n",
       "      <td>7500</td>\n",
       "      <td>4</td>\n",
       "      <td>2</td>\n",
       "      <td>2</td>\n",
       "      <td>3</td>\n",
       "      <td>1</td>\n",
       "      <td>0</td>\n",
       "      <td>1</td>\n",
       "      <td>0</td>\n",
       "      <td>1</td>\n",
       "      <td>1</td>\n",
       "      <td>0</td>\n",
       "      <td>0</td>\n",
       "    </tr>\n",
       "    <tr>\n",
       "      <th>4</th>\n",
       "      <td>1.0</td>\n",
       "      <td>7420</td>\n",
       "      <td>4</td>\n",
       "      <td>1</td>\n",
       "      <td>2</td>\n",
       "      <td>2</td>\n",
       "      <td>1</td>\n",
       "      <td>1</td>\n",
       "      <td>1</td>\n",
       "      <td>0</td>\n",
       "      <td>1</td>\n",
       "      <td>0</td>\n",
       "      <td>0</td>\n",
       "      <td>0</td>\n",
       "    </tr>\n",
       "  </tbody>\n",
       "</table>\n",
       "</div>"
      ],
      "text/plain": [
       "   const  area  bedrooms  bathrooms  stories  parking  mainroad_yes  \\\n",
       "0    1.0  7420         4          2        3        2             1   \n",
       "1    1.0  8960         4          4        4        3             1   \n",
       "2    1.0  9960         3          2        2        2             1   \n",
       "3    1.0  7500         4          2        2        3             1   \n",
       "4    1.0  7420         4          1        2        2             1   \n",
       "\n",
       "   guestroom_yes  basement_yes  hotwaterheating_yes  airconditioning_yes  \\\n",
       "0              0             0                    0                    1   \n",
       "1              0             0                    0                    1   \n",
       "2              0             1                    0                    0   \n",
       "3              0             1                    0                    1   \n",
       "4              1             1                    0                    1   \n",
       "\n",
       "   prefarea_yes  furnishingstatus_semi-furnished  furnishingstatus_unfurnished  \n",
       "0             1                                0                             0  \n",
       "1             0                                0                             0  \n",
       "2             1                                1                             0  \n",
       "3             1                                0                             0  \n",
       "4             0                                0                             0  "
      ]
     },
     "execution_count": 25,
     "metadata": {},
     "output_type": "execute_result"
    }
   ],
   "source": [
    "X = pd.get_dummies(\n",
    "    X,\n",
    "    columns = X.select_dtypes(include=[\"object\",\"category\"]).columns.tolist(),\n",
    "    drop_first=True\n",
    ")\n",
    "X.head()"
   ]
  },
  {
   "cell_type": "code",
   "execution_count": 27,
   "id": "d017aadd",
   "metadata": {},
   "outputs": [],
   "source": [
    "# splitting the data into 70:30 ratio for train to test data\n",
    "x_train, x_test, y_train, y_test = train_test_split(X, y, test_size=0.3, random_state=1)"
   ]
  },
  {
   "cell_type": "code",
   "execution_count": 32,
   "id": "1c60bf56",
   "metadata": {},
   "outputs": [
    {
     "name": "stdout",
     "output_type": "stream",
     "text": [
      "Number of rows in X train data = 381\n",
      "Number of rows in X test data = 164\n",
      "Number of features in X data 14\n"
     ]
    }
   ],
   "source": [
    "print(\"Number of rows in X train data =\", x_train.shape[0])\n",
    "print(\"Number of rows in X test data =\", x_test.shape[0])\n",
    "print(\"Number of features in X data = \", x_train.shape[1])"
   ]
  },
  {
   "cell_type": "code",
   "execution_count": 30,
   "id": "e7334edb",
   "metadata": {},
   "outputs": [
    {
     "name": "stdout",
     "output_type": "stream",
     "text": [
      "Number of rows in Y train data = 381\n",
      "Number of rows in Y test data = 164\n"
     ]
    }
   ],
   "source": [
    "print(\"Number of rows in Y train data =\", y_train.shape[0])\n",
    "print(\"Number of rows in Y test data =\", y_test.shape[0])"
   ]
  },
  {
   "cell_type": "markdown",
   "id": "54bc6705",
   "metadata": {},
   "source": [
    "3. Fitting the linear regression model"
   ]
  },
  {
   "cell_type": "code",
   "execution_count": 39,
   "id": "db3441a4",
   "metadata": {},
   "outputs": [],
   "source": [
    "olsmod = sm.OLS(y_train, x_train).fit()"
   ]
  },
  {
   "cell_type": "code",
   "execution_count": 40,
   "id": "3506eea8",
   "metadata": {},
   "outputs": [
    {
     "name": "stdout",
     "output_type": "stream",
     "text": [
      "                            OLS Regression Results                            \n",
      "==============================================================================\n",
      "Dep. Variable:                  price   R-squared:                       0.681\n",
      "Model:                            OLS   Adj. R-squared:                  0.670\n",
      "Method:                 Least Squares   F-statistic:                     60.33\n",
      "Date:                Tue, 06 Feb 2024   Prob (F-statistic):           1.02e-82\n",
      "Time:                        19:13:55   Log-Likelihood:                -5810.6\n",
      "No. Observations:                 381   AIC:                         1.165e+04\n",
      "Df Residuals:                     367   BIC:                         1.170e+04\n",
      "Df Model:                          13                                         \n",
      "Covariance Type:            nonrobust                                         \n",
      "===================================================================================================\n",
      "                                      coef    std err          t      P>|t|      [0.025      0.975]\n",
      "---------------------------------------------------------------------------------------------------\n",
      "const                             7.32e+04   2.98e+05      0.246      0.806   -5.12e+05    6.59e+05\n",
      "area                              247.0360     27.274      9.058      0.000     193.403     300.669\n",
      "bedrooms                         4.085e+04   8.25e+04      0.495      0.621   -1.21e+05    2.03e+05\n",
      "bathrooms                        1.021e+06   1.21e+05      8.443      0.000    7.83e+05    1.26e+06\n",
      "stories                          5.258e+05   7.62e+04      6.901      0.000    3.76e+05    6.76e+05\n",
      "parking                          2.731e+05   6.77e+04      4.034      0.000     1.4e+05    4.06e+05\n",
      "mainroad_yes                     4.705e+05   1.64e+05      2.868      0.004    1.48e+05    7.93e+05\n",
      "guestroom_yes                    2.744e+05   1.57e+05      1.750      0.081   -3.39e+04    5.83e+05\n",
      "basement_yes                     5.477e+05    1.3e+05      4.199      0.000    2.91e+05    8.04e+05\n",
      "hotwaterheating_yes              8.174e+05   2.56e+05      3.195      0.002    3.14e+05    1.32e+06\n",
      "airconditioning_yes              6.144e+05   1.26e+05      4.887      0.000    3.67e+05    8.62e+05\n",
      "prefarea_yes                     5.108e+05   1.34e+05      3.822      0.000    2.48e+05    7.74e+05\n",
      "furnishingstatus_semi-furnished -6.703e+04   1.34e+05     -0.500      0.617    -3.3e+05    1.96e+05\n",
      "furnishingstatus_unfurnished    -3.961e+05   1.47e+05     -2.693      0.007   -6.85e+05   -1.07e+05\n",
      "==============================================================================\n",
      "Omnibus:                       65.695   Durbin-Watson:                   2.100\n",
      "Prob(Omnibus):                  0.000   Jarque-Bera (JB):              153.511\n",
      "Skew:                           0.868   Prob(JB):                     4.63e-34\n",
      "Kurtosis:                       5.580   Cond. No.                     3.45e+04\n",
      "==============================================================================\n",
      "\n",
      "Notes:\n",
      "[1] Standard Errors assume that the covariance matrix of the errors is correctly specified.\n",
      "[2] The condition number is large, 3.45e+04. This might indicate that there are\n",
      "strong multicollinearity or other numerical problems.\n"
     ]
    }
   ],
   "source": [
    "print(olsmod.summary())"
   ]
  },
  {
   "cell_type": "markdown",
   "id": "8dc3a0c0",
   "metadata": {},
   "source": [
    "### Metrics to evaluate the performance"
   ]
  },
  {
   "cell_type": "code",
   "execution_count": 44,
   "id": "c76183fa",
   "metadata": {},
   "outputs": [],
   "source": [
    "from sklearn.metrics import mean_absolute_error, mean_squared_error, r2_score\n",
    "\n",
    "# function to compute adjusted R-squared\n",
    "def adj_r2_score(predictors, targets, predictions):\n",
    "    r2 = r2_score(targets, predictions)\n",
    "    n = predictors.shape[0]\n",
    "    k = predictors.shape[1]\n",
    "    return 1 - ((1 - r2)*(n-1)/(n-k-1))\n",
    "\n",
    "# function to compute MAPE\n",
    "def mape_score(targets, predictions):\n",
    "    return np.mean(np.abs(targets - predictions) / targets) * 100\n",
    "\n",
    "# function to compute different metrics to check performance of a regression model\n",
    "def measure_performance_regression(reg_model, predictors, target):\n",
    "    \"\"\"\n",
    "    model: regressor\n",
    "    predictors: independent variables\n",
    "    target: dependent variables\n",
    "    \"\"\"\n",
    "\n",
    "    # Getting metrics performance of regression by means: Target and Predicted Values\n",
    "    pred = reg_model.predict(predictors)\n",
    "    \n",
    "    r2 = r2_score(target, pred)\n",
    "    adjr2 = adj_r2_score(predictors, target, pred)\n",
    "    rmse = np.sqrt(mean_squared_error(target, pred)) #Root Mean Square Error\n",
    "    mae = mean_absolute_error(target, pred) #Mean Absolute Error\n",
    "    mape = mape_score(target, pred) # compute MAPE\n",
    "\n",
    "    # creating a dataframe of the calculated metrics\n",
    "    df_metrics =  pd.DataFrame(np.array([[r2, adjr2, rmse, mae, mape]]),\n",
    "                   columns=['R-squared', 'Adj. R-squared', 'RMSE','MAE','MAPE']\n",
    "                    )\n",
    "    return df_metrics"
   ]
  },
  {
   "cell_type": "code",
   "execution_count": 45,
   "id": "bd22a17a",
   "metadata": {},
   "outputs": [
    {
     "data": {
      "text/html": [
       "<div>\n",
       "<style scoped>\n",
       "    .dataframe tbody tr th:only-of-type {\n",
       "        vertical-align: middle;\n",
       "    }\n",
       "\n",
       "    .dataframe tbody tr th {\n",
       "        vertical-align: top;\n",
       "    }\n",
       "\n",
       "    .dataframe thead th {\n",
       "        text-align: right;\n",
       "    }\n",
       "</style>\n",
       "<table border=\"1\" class=\"dataframe\">\n",
       "  <thead>\n",
       "    <tr style=\"text-align: right;\">\n",
       "      <th></th>\n",
       "      <th>R-squared</th>\n",
       "      <th>Adj. R-squared</th>\n",
       "      <th>RMSE</th>\n",
       "      <th>MAE</th>\n",
       "      <th>MAPE</th>\n",
       "    </tr>\n",
       "  </thead>\n",
       "  <tbody>\n",
       "    <tr>\n",
       "      <th>0</th>\n",
       "      <td>0.681237</td>\n",
       "      <td>0.669044</td>\n",
       "      <td>1.016728e+06</td>\n",
       "      <td>742532.225692</td>\n",
       "      <td>16.196534</td>\n",
       "    </tr>\n",
       "  </tbody>\n",
       "</table>\n",
       "</div>"
      ],
      "text/plain": [
       "   R-squared  Adj. R-squared          RMSE            MAE       MAPE\n",
       "0   0.681237        0.669044  1.016728e+06  742532.225692  16.196534"
      ]
     },
     "execution_count": 45,
     "metadata": {},
     "output_type": "execute_result"
    }
   ],
   "source": [
    "measure_performance_regression(olsmod,x_train,y_train)"
   ]
  },
  {
   "cell_type": "code",
   "execution_count": 46,
   "id": "4c06f748",
   "metadata": {},
   "outputs": [
    {
     "data": {
      "text/html": [
       "<div>\n",
       "<style scoped>\n",
       "    .dataframe tbody tr th:only-of-type {\n",
       "        vertical-align: middle;\n",
       "    }\n",
       "\n",
       "    .dataframe tbody tr th {\n",
       "        vertical-align: top;\n",
       "    }\n",
       "\n",
       "    .dataframe thead th {\n",
       "        text-align: right;\n",
       "    }\n",
       "</style>\n",
       "<table border=\"1\" class=\"dataframe\">\n",
       "  <thead>\n",
       "    <tr style=\"text-align: right;\">\n",
       "      <th></th>\n",
       "      <th>R-squared</th>\n",
       "      <th>Adj. R-squared</th>\n",
       "      <th>RMSE</th>\n",
       "      <th>MAE</th>\n",
       "      <th>MAPE</th>\n",
       "    </tr>\n",
       "  </thead>\n",
       "  <tbody>\n",
       "    <tr>\n",
       "      <th>0</th>\n",
       "      <td>0.66463</td>\n",
       "      <td>0.633119</td>\n",
       "      <td>1.168376e+06</td>\n",
       "      <td>852334.00655</td>\n",
       "      <td>19.766707</td>\n",
       "    </tr>\n",
       "  </tbody>\n",
       "</table>\n",
       "</div>"
      ],
      "text/plain": [
       "   R-squared  Adj. R-squared          RMSE           MAE       MAPE\n",
       "0    0.66463        0.633119  1.168376e+06  852334.00655  19.766707"
      ]
     },
     "execution_count": 46,
     "metadata": {},
     "output_type": "execute_result"
    }
   ],
   "source": [
    "measure_performance_regression(olsmod,x_test,y_test)"
   ]
  },
  {
   "cell_type": "code",
   "execution_count": 49,
   "id": "fc8bb653",
   "metadata": {},
   "outputs": [
    {
     "data": {
      "text/plain": [
       "62     6.230049e+06\n",
       "247    6.329791e+06\n",
       "142    6.600961e+06\n",
       "107    5.513264e+06\n",
       "483    4.306170e+06\n",
       "           ...     \n",
       "450    4.071955e+06\n",
       "542    2.670559e+06\n",
       "408    2.764433e+06\n",
       "80     5.755530e+06\n",
       "46     7.181578e+06\n",
       "Length: 164, dtype: float64"
      ]
     },
     "execution_count": 49,
     "metadata": {},
     "output_type": "execute_result"
    }
   ],
   "source": [
    "olsmod.predict(x_test)"
   ]
  },
  {
   "cell_type": "markdown",
   "id": "5c324751",
   "metadata": {},
   "source": [
    "## Building Regression Linear Model\n",
    "#### Using  LinearRegression from sklearn.linear_model"
   ]
  },
  {
   "cell_type": "code",
   "execution_count": 50,
   "id": "bab87f39",
   "metadata": {},
   "outputs": [],
   "source": [
    "from sklearn.linear_model import LinearRegression"
   ]
  },
  {
   "cell_type": "code",
   "execution_count": 52,
   "id": "74748948",
   "metadata": {},
   "outputs": [],
   "source": [
    "reg_mod = LinearRegression()\n",
    "reg_mod.fit(x_train, y_train);"
   ]
  },
  {
   "cell_type": "markdown",
   "id": "117c390b",
   "metadata": {},
   "source": [
    "Making the prediction of all testing set"
   ]
  },
  {
   "cell_type": "code",
   "execution_count": 103,
   "id": "67ebd47f",
   "metadata": {},
   "outputs": [],
   "source": [
    "ypred=reg_mod.predict(x_test)"
   ]
  },
  {
   "cell_type": "code",
   "execution_count": 57,
   "id": "09331206",
   "metadata": {},
   "outputs": [
    {
     "data": {
      "text/html": [
       "<div>\n",
       "<style scoped>\n",
       "    .dataframe tbody tr th:only-of-type {\n",
       "        vertical-align: middle;\n",
       "    }\n",
       "\n",
       "    .dataframe tbody tr th {\n",
       "        vertical-align: top;\n",
       "    }\n",
       "\n",
       "    .dataframe thead th {\n",
       "        text-align: right;\n",
       "    }\n",
       "</style>\n",
       "<table border=\"1\" class=\"dataframe\">\n",
       "  <thead>\n",
       "    <tr style=\"text-align: right;\">\n",
       "      <th></th>\n",
       "      <th>R-squared</th>\n",
       "      <th>Adj. R-squared</th>\n",
       "      <th>RMSE</th>\n",
       "      <th>MAE</th>\n",
       "      <th>MAPE</th>\n",
       "    </tr>\n",
       "  </thead>\n",
       "  <tbody>\n",
       "    <tr>\n",
       "      <th>0</th>\n",
       "      <td>0.681237</td>\n",
       "      <td>0.669044</td>\n",
       "      <td>1.016728e+06</td>\n",
       "      <td>742532.225692</td>\n",
       "      <td>16.196534</td>\n",
       "    </tr>\n",
       "  </tbody>\n",
       "</table>\n",
       "</div>"
      ],
      "text/plain": [
       "   R-squared  Adj. R-squared          RMSE            MAE       MAPE\n",
       "0   0.681237        0.669044  1.016728e+06  742532.225692  16.196534"
      ]
     },
     "execution_count": 57,
     "metadata": {},
     "output_type": "execute_result"
    }
   ],
   "source": [
    "measure_performance_regression(reg_mod,x_train,y_train) #measure prediction by using training set"
   ]
  },
  {
   "cell_type": "code",
   "execution_count": 58,
   "id": "c0864dd0",
   "metadata": {},
   "outputs": [
    {
     "data": {
      "text/html": [
       "<div>\n",
       "<style scoped>\n",
       "    .dataframe tbody tr th:only-of-type {\n",
       "        vertical-align: middle;\n",
       "    }\n",
       "\n",
       "    .dataframe tbody tr th {\n",
       "        vertical-align: top;\n",
       "    }\n",
       "\n",
       "    .dataframe thead th {\n",
       "        text-align: right;\n",
       "    }\n",
       "</style>\n",
       "<table border=\"1\" class=\"dataframe\">\n",
       "  <thead>\n",
       "    <tr style=\"text-align: right;\">\n",
       "      <th></th>\n",
       "      <th>R-squared</th>\n",
       "      <th>Adj. R-squared</th>\n",
       "      <th>RMSE</th>\n",
       "      <th>MAE</th>\n",
       "      <th>MAPE</th>\n",
       "    </tr>\n",
       "  </thead>\n",
       "  <tbody>\n",
       "    <tr>\n",
       "      <th>0</th>\n",
       "      <td>0.66463</td>\n",
       "      <td>0.633119</td>\n",
       "      <td>1.168376e+06</td>\n",
       "      <td>852334.00655</td>\n",
       "      <td>19.766707</td>\n",
       "    </tr>\n",
       "  </tbody>\n",
       "</table>\n",
       "</div>"
      ],
      "text/plain": [
       "   R-squared  Adj. R-squared          RMSE           MAE       MAPE\n",
       "0    0.66463        0.633119  1.168376e+06  852334.00655  19.766707"
      ]
     },
     "execution_count": 58,
     "metadata": {},
     "output_type": "execute_result"
    }
   ],
   "source": [
    "measure_performance_regression(reg_mod,x_test,y_test) #measure prediction by using testing set"
   ]
  },
  {
   "cell_type": "markdown",
   "id": "900f7671",
   "metadata": {},
   "source": [
    "Observations:\n",
    "* Either with library statsmodel.api or sklearn.linear_model, we have obtained the same performance and there is no difference between both.\n",
    "* R-squared is not a good prediction because is far from 1."
   ]
  },
  {
   "cell_type": "markdown",
   "id": "74e6fd0a",
   "metadata": {},
   "source": [
    "PLotting the results between area (one of the features) and price (predicted value)"
   ]
  },
  {
   "cell_type": "code",
   "execution_count": 106,
   "id": "3d4961df",
   "metadata": {},
   "outputs": [
    {
     "data": {
      "image/png": "[encoded data removed]",
      "text/plain": [
       "<Figure size 432x288 with 1 Axes>"
      ]
     },
     "metadata": {},
     "output_type": "display_data"
    }
   ],
   "source": [
    "# Plot outputs\n",
    "#plt.scatter(x_test['area'].tolist(), y_test, color=\"black\")\n",
    "plt.scatter(x_test['area'].tolist(), ypred, color=\"black\")\n",
    "#plt.plot(x_test['area'].tolist(), ypred, color=\"blue\", linewidth=3)\n",
    "\n",
    "plt.xlabel('area')\n",
    "plt.ylabel('price')\n",
    "\n",
    "plt.show()"
   ]
  },
  {
   "cell_type": "markdown",
   "id": "493eda7f",
   "metadata": {},
   "source": [
    "Conclusions:\n",
    "* We can see that there is a correlation between these variables, feature and predicted values, it has evidence because we saw in the correlation analysis that these variable has a correlation of 0.54"
   ]
  },
  {
   "cell_type": "code",
   "execution_count": null,
   "id": "a279e810",
   "metadata": {},
   "outputs": [],
   "source": []
  }
 ],
 "metadata": {
  "kernelspec": {
   "display_name": "Python 3 (ipykernel)",
   "language": "python",
   "name": "python3"
  },
  "language_info": {
   "codemirror_mode": {
    "name": "ipython",
    "version": 3
   },
   "file_extension": ".py",
   "mimetype": "text/x-python",
   "name": "python",
   "nbconvert_exporter": "python",
   "pygments_lexer": "ipython3",
   "version": "3.9.7"
  }
 },
 "nbformat": 4,
 "nbformat_minor": 5
}
